{
  "nbformat": 4,
  "nbformat_minor": 0,
  "metadata": {
    "colab": {
      "provenance": []
    },
    "kernelspec": {
      "name": "python3",
      "display_name": "Python 3"
    },
    "language_info": {
      "name": "python"
    }
  },
  "cells": [
    {
      "cell_type": "markdown",
      "source": [
        "# Introduction\n",
        "This project predict whether it will rain in australia based on historical weather data using logisitc regression\n",
        "\n",
        "# Dataset Context\n",
        "This Dataset sourced from kaggle contain about 10 years of daily weather observations for numerous australian weather stations.\n",
        "\n",
        "Rain tomorrow is the variable to predict. Meaning did it rain the next day - Yes or No?"
      ],
      "metadata": {
        "id": "bN9w5t85QcTZ"
      }
    },
    {
      "cell_type": "code",
      "source": [
        "# Importing the Libraries\n",
        "import pandas as pd\n",
        "import numpy as np\n",
        "import matplotlib.pyplot as plt\n",
        "import seaborn as sns\n",
        "\n",
        "from sklearn.linear_model import LogisticRegression # For logistic regression model\n",
        "from sklearn.preprocessing import StandardScaler # For feature standardization\n",
        "from sklearn.model_selection import train_test_split # For splitting data into training and testing sets\n",
        "from sklearn.metrics import classification_report, confusion_matrix, accuracy_score # For model evaluation\n",
        "from sklearn.impute import SimpleImputer # For handling missing values"
      ],
      "metadata": {
        "id": "9XbkwW3RQb9f"
      },
      "execution_count": 3,
      "outputs": []
    },
    {
      "cell_type": "code",
      "execution_count": 4,
      "metadata": {
        "id": "nHYSX0lTNUxv"
      },
      "outputs": [],
      "source": [
        "# Importing the dataset\n",
        "data = pd.read_csv('weatherAUS.csv')"
      ]
    },
    {
      "cell_type": "code",
      "source": [
        "data.shape"
      ],
      "metadata": {
        "colab": {
          "base_uri": "https://localhost:8080/"
        },
        "id": "8XPARjXnUxqu",
        "outputId": "0185f384-f244-4906-f9f4-e5cedfe08937"
      },
      "execution_count": 6,
      "outputs": [
        {
          "output_type": "execute_result",
          "data": {
            "text/plain": [
              "(145460, 23)"
            ]
          },
          "metadata": {},
          "execution_count": 6
        }
      ]
    },
    {
      "cell_type": "code",
      "source": [
        "data.info()"
      ],
      "metadata": {
        "colab": {
          "base_uri": "https://localhost:8080/"
        },
        "id": "kQt6haWnUzqN",
        "outputId": "6f8b3154-44f6-416f-bf50-563ff930cd38"
      },
      "execution_count": 8,
      "outputs": [
        {
          "output_type": "stream",
          "name": "stdout",
          "text": [
            "<class 'pandas.core.frame.DataFrame'>\n",
            "RangeIndex: 145460 entries, 0 to 145459\n",
            "Data columns (total 23 columns):\n",
            " #   Column         Non-Null Count   Dtype  \n",
            "---  ------         --------------   -----  \n",
            " 0   Date           145460 non-null  object \n",
            " 1   Location       145460 non-null  object \n",
            " 2   MinTemp        143975 non-null  float64\n",
            " 3   MaxTemp        144199 non-null  float64\n",
            " 4   Rainfall       142199 non-null  float64\n",
            " 5   Evaporation    82670 non-null   float64\n",
            " 6   Sunshine       75625 non-null   float64\n",
            " 7   WindGustDir    135134 non-null  object \n",
            " 8   WindGustSpeed  135197 non-null  float64\n",
            " 9   WindDir9am     134894 non-null  object \n",
            " 10  WindDir3pm     141232 non-null  object \n",
            " 11  WindSpeed9am   143693 non-null  float64\n",
            " 12  WindSpeed3pm   142398 non-null  float64\n",
            " 13  Humidity9am    142806 non-null  float64\n",
            " 14  Humidity3pm    140953 non-null  float64\n",
            " 15  Pressure9am    130395 non-null  float64\n",
            " 16  Pressure3pm    130432 non-null  float64\n",
            " 17  Cloud9am       89572 non-null   float64\n",
            " 18  Cloud3pm       86102 non-null   float64\n",
            " 19  Temp9am        143693 non-null  float64\n",
            " 20  Temp3pm        141851 non-null  float64\n",
            " 21  RainToday      142199 non-null  object \n",
            " 22  RainTomorrow   142193 non-null  object \n",
            "dtypes: float64(16), object(7)\n",
            "memory usage: 25.5+ MB\n"
          ]
        }
      ]
    },
    {
      "cell_type": "code",
      "source": [
        "# Identifying column with missing values\n",
        "miss_values = data.columns[data.isnull().any()]"
      ],
      "metadata": {
        "id": "kiWwtLZdU3f8"
      },
      "execution_count": 11,
      "outputs": []
    },
    {
      "cell_type": "code",
      "source": [
        "# Handling the missing values\n",
        "for column in miss_values:\n",
        "  # If column is numerical compute the mean\n",
        "  if data[column].dtype == 'float64':\n",
        "    imputer = SimpleImputer(strategy= 'mean')\n",
        "    data[column] = imputer.fit_transform(data[[column]])\n",
        "  # If categorical compute the mode\n",
        "  else:\n",
        "    imputer = SimpleImputer(strategy= 'most_frequent')\n",
        "    data[column] = imputer.fit_transform(data[[column]])\n",
        "\n",
        "# Verify that all missing values have been handled\n",
        "print(data.isnull().sum())"
      ],
      "metadata": {
        "colab": {
          "base_uri": "https://localhost:8080/"
        },
        "id": "kuLAuQ37V6Zz",
        "outputId": "e25d94b8-0083-466e-d324-e693949493ae"
      },
      "execution_count": 15,
      "outputs": [
        {
          "output_type": "stream",
          "name": "stdout",
          "text": [
            "Date             0\n",
            "Location         0\n",
            "MinTemp          0\n",
            "MaxTemp          0\n",
            "Rainfall         0\n",
            "Evaporation      0\n",
            "Sunshine         0\n",
            "WindGustDir      0\n",
            "WindGustSpeed    0\n",
            "WindDir9am       0\n",
            "WindDir3pm       0\n",
            "WindSpeed9am     0\n",
            "WindSpeed3pm     0\n",
            "Humidity9am      0\n",
            "Humidity3pm      0\n",
            "Pressure9am      0\n",
            "Pressure3pm      0\n",
            "Cloud9am         0\n",
            "Cloud3pm         0\n",
            "Temp9am          0\n",
            "Temp3pm          0\n",
            "RainToday        0\n",
            "RainTomorrow     0\n",
            "dtype: int64\n"
          ]
        }
      ]
    },
    {
      "cell_type": "markdown",
      "source": [
        "# Exploratory Data Analysis"
      ],
      "metadata": {
        "id": "-TLhyqEkZDy0"
      }
    },
    {
      "cell_type": "code",
      "source": [
        "data['RainTomorrow'].value_counts()"
      ],
      "metadata": {
        "colab": {
          "base_uri": "https://localhost:8080/"
        },
        "id": "G5SO74R5V7s3",
        "outputId": "592ca4be-629d-454f-af01-bcc6bc5c4f41"
      },
      "execution_count": 16,
      "outputs": [
        {
          "output_type": "execute_result",
          "data": {
            "text/plain": [
              "No     113583\n",
              "Yes     31877\n",
              "Name: RainTomorrow, dtype: int64"
            ]
          },
          "metadata": {},
          "execution_count": 16
        }
      ]
    },
    {
      "cell_type": "code",
      "source": [
        "# Visualize distribution of target variable\n",
        "plt.figure(figsize = (8,6))\n",
        "sns.countplot(data=data, x='RainTomorrow')\n",
        "plt.xlabel('Rain Tomorrow')\n",
        "plt.ylabel('Count')\n",
        "plt.title('Distribution of Rain Tomorrow')\n",
        "plt.show()"
      ],
      "metadata": {
        "colab": {
          "base_uri": "https://localhost:8080/",
          "height": 564
        },
        "id": "yOty3ttcaYeB",
        "outputId": "bc6e3704-4a32-4069-fb6f-7812b382c60b"
      },
      "execution_count": 20,
      "outputs": [
        {
          "output_type": "display_data",
          "data": {
            "text/plain": [
              "<Figure size 800x600 with 1 Axes>"
            ],
            "image/png": "[encoded data removed]"
          },
          "metadata": {}
        }
      ]
    },
    {
      "cell_type": "code",
      "source": [
        "data.columns"
      ],
      "metadata": {
        "colab": {
          "base_uri": "https://localhost:8080/"
        },
        "id": "obBW5LMYchoP",
        "outputId": "6f1f1409-1444-4ad7-dec5-466e23f16e07"
      },
      "execution_count": 21,
      "outputs": [
        {
          "output_type": "execute_result",
          "data": {
            "text/plain": [
              "Index(['Date', 'Location', 'MinTemp', 'MaxTemp', 'Rainfall', 'Evaporation',\n",
              "       'Sunshine', 'WindGustDir', 'WindGustSpeed', 'WindDir9am', 'WindDir3pm',\n",
              "       'WindSpeed9am', 'WindSpeed3pm', 'Humidity9am', 'Humidity3pm',\n",
              "       'Pressure9am', 'Pressure3pm', 'Cloud9am', 'Cloud3pm', 'Temp9am',\n",
              "       'Temp3pm', 'RainToday', 'RainTomorrow'],\n",
              "      dtype='object')"
            ]
          },
          "metadata": {},
          "execution_count": 21
        }
      ]
    },
    {
      "cell_type": "code",
      "source": [
        "# Summary Statistics of selected Numerical Features\n",
        "num_features = ['MinTemp', 'MaxTemp', 'Rainfall', 'WindGustSpeed', 'Humidity9am', 'Humidity3pm']\n",
        "data[num_features].describe()"
      ],
      "metadata": {
        "colab": {
          "base_uri": "https://localhost:8080/",
          "height": 300
        },
        "id": "hUibCJ93bVse",
        "outputId": "8f95856e-d7ea-41f0-aad6-f037e8997191"
      },
      "execution_count": 22,
      "outputs": [
        {
          "output_type": "execute_result",
          "data": {
            "text/plain": [
              "             MinTemp        MaxTemp       Rainfall  WindGustSpeed  \\\n",
              "count  145460.000000  145460.000000  145460.000000  145460.000000   \n",
              "mean       12.194034      23.221348       2.360918      40.035230   \n",
              "std         6.365750       7.088124       8.382488      13.118253   \n",
              "min        -8.500000      -4.800000       0.000000       6.000000   \n",
              "25%         7.700000      18.000000       0.000000      31.000000   \n",
              "50%        12.100000      22.700000       0.000000      39.000000   \n",
              "75%        16.800000      28.200000       1.000000      46.000000   \n",
              "max        33.900000      48.100000     371.000000     135.000000   \n",
              "\n",
              "         Humidity9am    Humidity3pm  \n",
              "count  145460.000000  145460.000000  \n",
              "mean       68.880831      51.539116  \n",
              "std        18.854765      20.471189  \n",
              "min         0.000000       0.000000  \n",
              "25%        57.000000      37.000000  \n",
              "50%        69.000000      51.539116  \n",
              "75%        83.000000      65.000000  \n",
              "max       100.000000     100.000000  "
            ],
            "text/html": [
              "\n",
              "  <div id=\"df-53609d02-b5b8-444b-be12-1bc611deab10\" class=\"colab-df-container\">\n",
              "    <div>\n",
              "<style scoped>\n",
              "    .dataframe tbody tr th:only-of-type {\n",
              "        vertical-align: middle;\n",
              "    }\n",
              "\n",
              "    .dataframe tbody tr th {\n",
              "        vertical-align: top;\n",
              "    }\n",
              "\n",
              "    .dataframe thead th {\n",
              "        text-align: right;\n",
              "    }\n",
              "</style>\n",
              "<table border=\"1\" class=\"dataframe\">\n",
              "  <thead>\n",
              "    <tr style=\"text-align: right;\">\n",
              "      <th></th>\n",
              "      <th>MinTemp</th>\n",
              "      <th>MaxTemp</th>\n",
              "      <th>Rainfall</th>\n",
              "      <th>WindGustSpeed</th>\n",
              "      <th>Humidity9am</th>\n",
              "      <th>Humidity3pm</th>\n",
              "    </tr>\n",
              "  </thead>\n",
              "  <tbody>\n",
              "    <tr>\n",
              "      <th>count</th>\n",
              "      <td>145460.000000</td>\n",
              "      <td>145460.000000</td>\n",
              "      <td>145460.000000</td>\n",
              "      <td>145460.000000</td>\n",
              "      <td>145460.000000</td>\n",
              "      <td>145460.000000</td>\n",
              "    </tr>\n",
              "    <tr>\n",
              "      <th>mean</th>\n",
              "      <td>12.194034</td>\n",
              "      <td>23.221348</td>\n",
              "      <td>2.360918</td>\n",
              "      <td>40.035230</td>\n",
              "      <td>68.880831</td>\n",
              "      <td>51.539116</td>\n",
              "    </tr>\n",
              "    <tr>\n",
              "      <th>std</th>\n",
              "      <td>6.365750</td>\n",
              "      <td>7.088124</td>\n",
              "      <td>8.382488</td>\n",
              "      <td>13.118253</td>\n",
              "      <td>18.854765</td>\n",
              "      <td>20.471189</td>\n",
              "    </tr>\n",
              "    <tr>\n",
              "      <th>min</th>\n",
              "      <td>-8.500000</td>\n",
              "      <td>-4.800000</td>\n",
              "      <td>0.000000</td>\n",
              "      <td>6.000000</td>\n",
              "      <td>0.000000</td>\n",
              "      <td>0.000000</td>\n",
              "    </tr>\n",
              "    <tr>\n",
              "      <th>25%</th>\n",
              "      <td>7.700000</td>\n",
              "      <td>18.000000</td>\n",
              "      <td>0.000000</td>\n",
              "      <td>31.000000</td>\n",
              "      <td>57.000000</td>\n",
              "      <td>37.000000</td>\n",
              "    </tr>\n",
              "    <tr>\n",
              "      <th>50%</th>\n",
              "      <td>12.100000</td>\n",
              "      <td>22.700000</td>\n",
              "      <td>0.000000</td>\n",
              "      <td>39.000000</td>\n",
              "      <td>69.000000</td>\n",
              "      <td>51.539116</td>\n",
              "    </tr>\n",
              "    <tr>\n",
              "      <th>75%</th>\n",
              "      <td>16.800000</td>\n",
              "      <td>28.200000</td>\n",
              "      <td>1.000000</td>\n",
              "      <td>46.000000</td>\n",
              "      <td>83.000000</td>\n",
              "      <td>65.000000</td>\n",
              "    </tr>\n",
              "    <tr>\n",
              "      <th>max</th>\n",
              "      <td>33.900000</td>\n",
              "      <td>48.100000</td>\n",
              "      <td>371.000000</td>\n",
              "      <td>135.000000</td>\n",
              "      <td>100.000000</td>\n",
              "      <td>100.000000</td>\n",
              "    </tr>\n",
              "  </tbody>\n",
              "</table>\n",
              "</div>\n",
              "    <div class=\"colab-df-buttons\">\n",
              "\n",
              "  <div class=\"colab-df-container\">\n",
              "    <button class=\"colab-df-convert\" onclick=\"convertToInteractive('df-53609d02-b5b8-444b-be12-1bc611deab10')\"\n",
              "            title=\"Convert this dataframe to an interactive table.\"\n",
              "            style=\"display:none;\">\n",
              "\n",
              "  <svg xmlns=\"http://www.w3.org/2000/svg\" height=\"24px\" viewBox=\"0 -960 960 960\">\n",
              "    <path d=\"M120-120v-720h720v720H120Zm60-500h600v-160H180v160Zm220 220h160v-160H400v160Zm0 220h160v-160H400v160ZM180-400h160v-160H180v160Zm440 0h160v-160H620v160ZM180-180h160v-160H180v160Zm440 0h160v-160H620v160Z\"/>\n",
              "  </svg>\n",
              "    </button>\n",
              "\n",
              "  <style>\n",
              "    .colab-df-container {\n",
              "      display:flex;\n",
              "      gap: 12px;\n",
              "    }\n",
              "\n",
              "    .colab-df-convert {\n",
              "      background-color: #E8F0FE;\n",
              "      border: none;\n",
              "      border-radius: 50%;\n",
              "      cursor: pointer;\n",
              "      display: none;\n",
              "      fill: #1967D2;\n",
              "      height: 32px;\n",
              "      padding: 0 0 0 0;\n",
              "      width: 32px;\n",
              "    }\n",
              "\n",
              "    .colab-df-convert:hover {\n",
              "      background-color: #E2EBFA;\n",
              "      box-shadow: 0px 1px 2px rgba(60, 64, 67, 0.3), 0px 1px 3px 1px rgba(60, 64, 67, 0.15);\n",
              "      fill: #174EA6;\n",
              "    }\n",
              "\n",
              "    .colab-df-buttons div {\n",
              "      margin-bottom: 4px;\n",
              "    }\n",
              "\n",
              "    [theme=dark] .colab-df-convert {\n",
              "      background-color: #3B4455;\n",
              "      fill: #D2E3FC;\n",
              "    }\n",
              "\n",
              "    [theme=dark] .colab-df-convert:hover {\n",
              "      background-color: #434B5C;\n",
              "      box-shadow: 0px 1px 3px 1px rgba(0, 0, 0, 0.15);\n",
              "      filter: drop-shadow(0px 1px 2px rgba(0, 0, 0, 0.3));\n",
              "      fill: #FFFFFF;\n",
              "    }\n",
              "  </style>\n",
              "\n",
              "    <script>\n",
              "      const buttonEl =\n",
              "        document.querySelector('#df-53609d02-b5b8-444b-be12-1bc611deab10 button.colab-df-convert');\n",
              "      buttonEl.style.display =\n",
              "        google.colab.kernel.accessAllowed ? 'block' : 'none';\n",
              "\n",
              "      async function convertToInteractive(key) {\n",
              "        const element = document.querySelector('#df-53609d02-b5b8-444b-be12-1bc611deab10');\n",
              "        const dataTable =\n",
              "          await google.colab.kernel.invokeFunction('convertToInteractive',\n",
              "                                                    [key], {});\n",
              "        if (!dataTable) return;\n",
              "\n",
              "        const docLinkHtml = 'Like what you see? Visit the ' +\n",
              "          '<a target=\"_blank\" href=https://colab.research.google.com/notebooks/data_table.ipynb>data table notebook</a>'\n",
              "          + ' to learn more about interactive tables.';\n",
              "        element.innerHTML = '';\n",
              "        dataTable['output_type'] = 'display_data';\n",
              "        await google.colab.output.renderOutput(dataTable, element);\n",
              "        const docLink = document.createElement('div');\n",
              "        docLink.innerHTML = docLinkHtml;\n",
              "        element.appendChild(docLink);\n",
              "      }\n",
              "    </script>\n",
              "  </div>\n",
              "\n",
              "\n",
              "<div id=\"df-2638c3a3-9b46-4dbf-8ba1-bc9964c912d7\">\n",
              "  <button class=\"colab-df-quickchart\" onclick=\"quickchart('df-2638c3a3-9b46-4dbf-8ba1-bc9964c912d7')\"\n",
              "            title=\"Suggest charts.\"\n",
              "            style=\"display:none;\">\n",
              "\n",
              "<svg xmlns=\"http://www.w3.org/2000/svg\" height=\"24px\"viewBox=\"0 0 24 24\"\n",
              "     width=\"24px\">\n",
              "    <g>\n",
              "        <path d=\"M19 3H5c-1.1 0-2 .9-2 2v14c0 1.1.9 2 2 2h14c1.1 0 2-.9 2-2V5c0-1.1-.9-2-2-2zM9 17H7v-7h2v7zm4 0h-2V7h2v10zm4 0h-2v-4h2v4z\"/>\n",
              "    </g>\n",
              "</svg>\n",
              "  </button>\n",
              "\n",
              "<style>\n",
              "  .colab-df-quickchart {\n",
              "      --bg-color: #E8F0FE;\n",
              "      --fill-color: #1967D2;\n",
              "      --hover-bg-color: #E2EBFA;\n",
              "      --hover-fill-color: #174EA6;\n",
              "      --disabled-fill-color: #AAA;\n",
              "      --disabled-bg-color: #DDD;\n",
              "  }\n",
              "\n",
              "  [theme=dark] .colab-df-quickchart {\n",
              "      --bg-color: #3B4455;\n",
              "      --fill-color: #D2E3FC;\n",
              "      --hover-bg-color: #434B5C;\n",
              "      --hover-fill-color: #FFFFFF;\n",
              "      --disabled-bg-color: #3B4455;\n",
              "      --disabled-fill-color: #666;\n",
              "  }\n",
              "\n",
              "  .colab-df-quickchart {\n",
              "    background-color: var(--bg-color);\n",
              "    border: none;\n",
              "    border-radius: 50%;\n",
              "    cursor: pointer;\n",
              "    display: none;\n",
              "    fill: var(--fill-color);\n",
              "    height: 32px;\n",
              "    padding: 0;\n",
              "    width: 32px;\n",
              "  }\n",
              "\n",
              "  .colab-df-quickchart:hover {\n",
              "    background-color: var(--hover-bg-color);\n",
              "    box-shadow: 0 1px 2px rgba(60, 64, 67, 0.3), 0 1px 3px 1px rgba(60, 64, 67, 0.15);\n",
              "    fill: var(--button-hover-fill-color);\n",
              "  }\n",
              "\n",
              "  .colab-df-quickchart-complete:disabled,\n",
              "  .colab-df-quickchart-complete:disabled:hover {\n",
              "    background-color: var(--disabled-bg-color);\n",
              "    fill: var(--disabled-fill-color);\n",
              "    box-shadow: none;\n",
              "  }\n",
              "\n",
              "  .colab-df-spinner {\n",
              "    border: 2px solid var(--fill-color);\n",
              "    border-color: transparent;\n",
              "    border-bottom-color: var(--fill-color);\n",
              "    animation:\n",
              "      spin 1s steps(1) infinite;\n",
              "  }\n",
              "\n",
              "  @keyframes spin {\n",
              "    0% {\n",
              "      border-color: transparent;\n",
              "      border-bottom-color: var(--fill-color);\n",
              "      border-left-color: var(--fill-color);\n",
              "    }\n",
              "    20% {\n",
              "      border-color: transparent;\n",
              "      border-left-color: var(--fill-color);\n",
              "      border-top-color: var(--fill-color);\n",
              "    }\n",
              "    30% {\n",
              "      border-color: transparent;\n",
              "      border-left-color: var(--fill-color);\n",
              "      border-top-color: var(--fill-color);\n",
              "      border-right-color: var(--fill-color);\n",
              "    }\n",
              "    40% {\n",
              "      border-color: transparent;\n",
              "      border-right-color: var(--fill-color);\n",
              "      border-top-color: var(--fill-color);\n",
              "    }\n",
              "    60% {\n",
              "      border-color: transparent;\n",
              "      border-right-color: var(--fill-color);\n",
              "    }\n",
              "    80% {\n",
              "      border-color: transparent;\n",
              "      border-right-color: var(--fill-color);\n",
              "      border-bottom-color: var(--fill-color);\n",
              "    }\n",
              "    90% {\n",
              "      border-color: transparent;\n",
              "      border-bottom-color: var(--fill-color);\n",
              "    }\n",
              "  }\n",
              "</style>\n",
              "\n",
              "  <script>\n",
              "    async function quickchart(key) {\n",
              "      const quickchartButtonEl =\n",
              "        document.querySelector('#' + key + ' button');\n",
              "      quickchartButtonEl.disabled = true;  // To prevent multiple clicks.\n",
              "      quickchartButtonEl.classList.add('colab-df-spinner');\n",
              "      try {\n",
              "        const charts = await google.colab.kernel.invokeFunction(\n",
              "            'suggestCharts', [key], {});\n",
              "      } catch (error) {\n",
              "        console.error('Error during call to suggestCharts:', error);\n",
              "      }\n",
              "      quickchartButtonEl.classList.remove('colab-df-spinner');\n",
              "      quickchartButtonEl.classList.add('colab-df-quickchart-complete');\n",
              "    }\n",
              "    (() => {\n",
              "      let quickchartButtonEl =\n",
              "        document.querySelector('#df-2638c3a3-9b46-4dbf-8ba1-bc9964c912d7 button');\n",
              "      quickchartButtonEl.style.display =\n",
              "        google.colab.kernel.accessAllowed ? 'block' : 'none';\n",
              "    })();\n",
              "  </script>\n",
              "</div>\n",
              "    </div>\n",
              "  </div>\n"
            ]
          },
          "metadata": {},
          "execution_count": 22
        }
      ]
    },
    {
      "cell_type": "code",
      "source": [
        "# Pairwise correlation heatmap of selected numerical values\n",
        "plt.figure(figsize =(8,6))\n",
        "sns.heatmap(data[num_features].corr(), annot = True, cmap='coolwarm', center = 0)\n",
        "plt.title('Pairwise correlation heatmap of selected numerical values')\n",
        "plt.show()"
      ],
      "metadata": {
        "colab": {
          "base_uri": "https://localhost:8080/",
          "height": 641
        },
        "id": "pSihX8bAdT0q",
        "outputId": "1b940e95-9fa5-4fe9-e9cd-db194cf13d01"
      },
      "execution_count": 28,
      "outputs": [
        {
          "output_type": "display_data",
          "data": {
            "text/plain": [
              "<Figure size 800x600 with 2 Axes>"
            ],
            "image/png": "[encoded data removed]"
          },
          "metadata": {}
        }
      ]
    },
    {
      "cell_type": "code",
      "source": [
        "# Select Top 10 locations with highest counts\n",
        "top10_location = data['Location'].value_counts().head(10).index\n",
        "\n",
        "# Filter data frame for top location\n",
        "top_location = data[data['Location'].isin(top10_location)]"
      ],
      "metadata": {
        "id": "ALzCpSxkeSgb"
      },
      "execution_count": 37,
      "outputs": []
    },
    {
      "cell_type": "code",
      "source": [
        "# Visualize the distribution of rain tomorrow accross location\n",
        "# size() is used to calculate the size count of each and .unstack() is used to pivot series into dataframe\n",
        "plt.figure(figsize =(10,6))\n",
        "location_distribution = top_location.groupby(['Location', 'RainTomorrow']).size().unstack()\n",
        "location_distribution.plot(kind = 'barh', stacked = True)\n",
        "plt.title('Rain Distribution by Location')\n",
        "plt.xlabel('Count')\n",
        "plt.ylabel('Location')\n",
        "plt.legend(title = 'RainTomorrow')\n",
        "plt.tight_layout()\n",
        "plt.show()"
      ],
      "metadata": {
        "colab": {
          "base_uri": "https://localhost:8080/",
          "height": 505
        },
        "id": "cBc4Xmz7hPNd",
        "outputId": "35aff94b-8534-4c1f-fe0f-3dbcfaa3c790"
      },
      "execution_count": 49,
      "outputs": [
        {
          "output_type": "display_data",
          "data": {
            "text/plain": [
              "<Figure size 1000x600 with 0 Axes>"
            ]
          },
          "metadata": {}
        },
        {
          "output_type": "display_data",
          "data": {
            "text/plain": [
              "<Figure size 640x480 with 1 Axes>"
            ],
            "image/png": "[encoded data removed]"
          },
          "metadata": {}
        }
      ]
    },
    {
      "cell_type": "markdown",
      "source": [
        "# Training and Testing the data"
      ],
      "metadata": {
        "id": "1l190BTNkBWL"
      }
    },
    {
      "cell_type": "code",
      "source": [
        "features = ['MinTemp', 'MaxTemp', 'Rainfall', 'WindGustSpeed', 'Humidity9am', 'Humidity3pm']"
      ],
      "metadata": {
        "id": "c88yh1DOh1rk"
      },
      "execution_count": 50,
      "outputs": []
    },
    {
      "cell_type": "code",
      "source": [
        "# Preparing the data\n",
        "x = data[features]\n",
        "y = data['RainTomorrow']"
      ],
      "metadata": {
        "id": "zv1EQcemkoAZ"
      },
      "execution_count": 51,
      "outputs": []
    },
    {
      "cell_type": "code",
      "source": [
        "# Now i have to convert the Categorical target 'RainTomorrow' to binary (0 or 1)\n",
        "# The purpose is to prepare the target variable in a format that's suitable for binary classification\n",
        "data['RainTomorrow'] = data['RainTomorrow'].replace({'Yes': 1, 'No':0})\n",
        "data['RainTomorrow'].value_counts()"
      ],
      "metadata": {
        "colab": {
          "base_uri": "https://localhost:8080/"
        },
        "id": "3RuF1jxRkvhY",
        "outputId": "db8e655c-76c0-4faf-a184-2f074fce8e10"
      },
      "execution_count": 54,
      "outputs": [
        {
          "output_type": "execute_result",
          "data": {
            "text/plain": [
              "0    113583\n",
              "1     31877\n",
              "Name: RainTomorrow, dtype: int64"
            ]
          },
          "metadata": {},
          "execution_count": 54
        }
      ]
    },
    {
      "cell_type": "code",
      "source": [
        "# Splitting the dataset into training and testing set\n",
        "x_train, x_test, y_train, y_test = train_test_split(x,y, test_size = 0.2, train_size= 0.8)"
      ],
      "metadata": {
        "id": "xAIx9vvdmLSz"
      },
      "execution_count": 55,
      "outputs": []
    },
    {
      "cell_type": "code",
      "source": [
        "# Standardizing the feature\n",
        "scaler = StandardScaler()\n",
        "\n",
        "# Fitting the scaler on the training data and fit it\n",
        "x_train = scaler.fit_transform(x_train)\n",
        "\n",
        "# Transform the test data using the same scaler\n",
        "x_test = scaler.transform(x_test)"
      ],
      "metadata": {
        "id": "hdZqrp8dn0UQ"
      },
      "execution_count": 57,
      "outputs": []
    },
    {
      "cell_type": "markdown",
      "source": [
        "A StandardScaler makes sure all the features have similar ranges so the model can work better. It transforms the data to have an average of 0 and a standard deviation of 1"
      ],
      "metadata": {
        "id": "mseIlHs0pCeA"
      }
    },
    {
      "cell_type": "markdown",
      "source": [
        "# Training the model Evaluation"
      ],
      "metadata": {
        "id": "FjKMST-1pYFh"
      }
    },
    {
      "cell_type": "code",
      "source": [
        "# Model Training and Evaluation\n",
        "# Creating a logistic regression model\n",
        "model = LogisticRegression()\n",
        "model.fit(x_train,y_train)\n",
        "\n",
        "# Make prediction of test set\n",
        "ypred = model.predict(x_test)"
      ],
      "metadata": {
        "id": "PME-lR_boBHR"
      },
      "execution_count": 59,
      "outputs": []
    },
    {
      "cell_type": "code",
      "source": [
        "# Calculate the accuracy\n",
        "accuracy = accuracy_score(ypred,y_test)\n",
        "print('Accuracy :', accuracy)"
      ],
      "metadata": {
        "colab": {
          "base_uri": "https://localhost:8080/"
        },
        "id": "i6cWFHOFp9d3",
        "outputId": "181273cf-6e4a-4690-a763-7733f7ac9875"
      },
      "execution_count": 62,
      "outputs": [
        {
          "output_type": "stream",
          "name": "stdout",
          "text": [
            "Accuracy : 0.8316031898803795\n"
          ]
        }
      ]
    },
    {
      "cell_type": "markdown",
      "source": [
        "So we can see that the model predict whether it will rain tomorrow about 83.16% of times based on features"
      ],
      "metadata": {
        "id": "aF6601FkqkqT"
      }
    },
    {
      "cell_type": "code",
      "source": [
        "# Confusion Matrix - this looks for false/true positives and negatives - ranging from -1 to 1\n",
        "# [[True Negative (TN) False Negative(FN)]]\n",
        "# [[False Negative (FN) True Positive(TP)]]\n",
        "\n",
        "cm = confusion_matrix(y_test, ypred)\n",
        "plt.figure(figsize=(8,6))\n",
        "sns.heatmap(cm, annot = True, cmap ='coolwarm')\n",
        "plt.xlabel('Predicted')\n",
        "plt.ylabel('Actual')\n",
        "plt.title('Confusion Matrix')\n",
        "plt.show()"
      ],
      "metadata": {
        "colab": {
          "base_uri": "https://localhost:8080/",
          "height": 564
        },
        "id": "tshbSN7tqkbA",
        "outputId": "f6f994f5-a11f-419b-bd15-3ee6ef4123c3"
      },
      "execution_count": 65,
      "outputs": [
        {
          "output_type": "display_data",
          "data": {
            "text/plain": [
              "<Figure size 800x600 with 2 Axes>"
            ],
            "image/png": "[encoded data removed]"
          },
          "metadata": {}
        }
      ]
    },
    {
      "cell_type": "code",
      "source": [
        "# Model prediction with Precision, Recall and F1 scores\n",
        "report = classification_report(y_test,ypred, target_names=['No Rain', 'Rain'])\n",
        "print(\"Classification Report\\n\", report)"
      ],
      "metadata": {
        "colab": {
          "base_uri": "https://localhost:8080/"
        },
        "id": "HrEu96Z-qJkJ",
        "outputId": "0a8bc8fd-6734-4f94-cbe8-12ee8db7b1d5"
      },
      "execution_count": 66,
      "outputs": [
        {
          "output_type": "stream",
          "name": "stdout",
          "text": [
            "Classification Report\n",
            "               precision    recall  f1-score   support\n",
            "\n",
            "     No Rain       0.85      0.95      0.90     22670\n",
            "        Rain       0.70      0.42      0.52      6422\n",
            "\n",
            "    accuracy                           0.83     29092\n",
            "   macro avg       0.78      0.68      0.71     29092\n",
            "weighted avg       0.82      0.83      0.81     29092\n",
            "\n"
          ]
        }
      ]
    },
    {
      "cell_type": "markdown",
      "source": [
        "**The prediction is the percentage of predicted positives that are actually positives. Recall is the percentage of actual positives that are positive. F1-score is a weighted harmonic mean of precision and recall**\n",
        "\n"
      ],
      "metadata": {
        "id": "kGkp1oPUsyFs"
      }
    },
    {
      "cell_type": "markdown",
      "source": [
        "# CONCLUSION:\n",
        "\n",
        "This project provides valuable insight into prediction Rainfall for the following historical weather data.\n",
        "\n",
        "The logistic regression model with an accuracy of 83.16%, shows potential in making reasonable decisions.\n",
        "\n",
        "However, further analysis would be required, including exploring additional features and investigating the reasons behind false positive and false negative.\n",
        "\n",
        "By addressing these aspects the model reliability can be improve making it more suitable for real word applications"
      ],
      "metadata": {
        "id": "wdDnRTNdt4DI"
      }
    },
    {
      "cell_type": "code",
      "source": [],
      "metadata": {
        "id": "2RmJe2aMt19i"
      },
      "execution_count": null,
      "outputs": []
    }
  ]
}